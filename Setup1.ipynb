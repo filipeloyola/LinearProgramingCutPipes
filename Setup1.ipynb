{
  "nbformat": 4,
  "nbformat_minor": 0,
  "metadata": {
    "kernelspec": {
      "display_name": "Python 3",
      "language": "python",
      "name": "python3"
    },
    "language_info": {
      "codemirror_mode": {
        "name": "ipython",
        "version": 3
      },
      "file_extension": ".py",
      "mimetype": "text/x-python",
      "name": "python",
      "nbconvert_exporter": "python",
      "pygments_lexer": "ipython3",
      "version": "3.7.6"
    },
    "colab": {
      "name": "Projeto_finalPL_v1_ok.ipynb",
      "provenance": []
    }
  },
  "cells": [
    {
      "cell_type": "markdown",
      "metadata": {
        "id": "3Xg69BWXchB9"
      },
      "source": [
        "# **LINEAR PROGRAMMING APPLIED TO THE MATERIAL OPTIMIZATION FOR THE CONSTRUCTION OF A PEDIATRIC ELECTRIC WHEELCHAIR BUILT WITH PVC PIPES**\n",
        "\n",
        "Linear Programming, demand of 22 items (Setup one)\n",
        "\n",
        "\n",
        "22 / 06 / 2022\n",
        "\n",
        "Filipe Loyola Lopes\n",
        "\n",
        "Prof. Dr. Luiz Leduino Salles Neto\n"
      ]
    },
    {
      "cell_type": "code",
      "metadata": {
        "colab": {
          "base_uri": "https://localhost:8080/"
        },
        "id": "ABtvA9xk0BhF",
        "outputId": "74b2c003-1093-4fc1-a7b2-fecda79e7586"
      },
      "source": [
        "pip install pulp"
      ],
      "execution_count": null,
      "outputs": [
        {
          "output_type": "stream",
          "text": [
            "Requirement already satisfied: pulp in /usr/local/lib/python3.6/dist-packages (2.3.1)\n",
            "Requirement already satisfied: amply>=0.1.2 in /usr/local/lib/python3.6/dist-packages (from pulp) (0.1.4)\n",
            "Requirement already satisfied: docutils>=0.3 in /usr/local/lib/python3.6/dist-packages (from amply>=0.1.2->pulp) (0.16)\n",
            "Requirement already satisfied: pyparsing in /usr/local/lib/python3.6/dist-packages (from amply>=0.1.2->pulp) (2.4.7)\n"
          ],
          "name": "stdout"
        }
      ]
    },
    {
      "cell_type": "code",
      "metadata": {
        "colab": {
          "base_uri": "https://localhost:8080/"
        },
        "id": "zCuCy6SS0DIC",
        "outputId": "5d1b5d3c-d4d7-48f8-d8ea-48edd4f213f1"
      },
      "source": [
        "#Bibliotecas\n",
        "import pulp as pl \n",
        "import math\n",
        "import pandas as pd\n",
        "from pulp import *\n",
        "solver_list = pl.list_solvers(onlyAvailable=True)\n",
        "solver_list"
      ],
      "execution_count": null,
      "outputs": [
        {
          "output_type": "execute_result",
          "data": {
            "text/plain": [
              "['PULP_CBC_CMD', 'PULP_CHOCO_CMD']"
            ]
          },
          "metadata": {
            "tags": []
          },
          "execution_count": 606
        }
      ]
    },
    {
      "cell_type": "code",
      "metadata": {
        "id": "MSJERIC30Moi"
      },
      "source": [
        "#https://coin-or.github.io/pulp/guides/how_to_configure_solvers.html\n",
        "#solver = pl.getSolver('CPLEX_CMD')\n",
        "#solver = pl.getSolver('PULP_CBC_CMD', timeLimit=1200)# após xx segundos interrompe o processo\n",
        "solver = pl.getSolver('PULP_CBC_CMD')"
      ],
      "execution_count": null,
      "outputs": []
    },
    {
      "cell_type": "markdown",
      "metadata": {
        "id": "ye-Nhm7PuadU"
      },
      "source": [
        "###Medidas Antropométricas\n",
        "Nesta etapa é necessário inserir os parâmetros de entrada (medidas antropométricas) para o cálculo da quantidade de tubos.\n",
        "\n",
        "\n",
        "\n",
        "A = Altura das costas\n",
        "\n",
        "B = Largura do quadril\n",
        "\n",
        "C = Comprimento das coxas\n",
        "\n",
        "D = Altura das pernas\n",
        "\n",
        "E = Altura do braço\n",
        "\n",
        "F = Comprimento do antebraço\n"
      ]
    },
    {
      "cell_type": "code",
      "metadata": {
        "id": "xqriwslAulQM"
      },
      "source": [
        "#Medidas antropométicas\n",
        "\n",
        "#Altura das costa = 36cm\n",
        "A=36\n",
        "\n",
        "#Largura do quadril = 25cm\n",
        "B=25\n",
        "\n",
        "#Comprimento das coxas = 30cm\n",
        "C=30\n",
        "\n",
        "#Altura da pernas = 28cm\n",
        "D=28\n",
        "\n",
        "#Altura do braço = 14cm\n",
        "E=14\n",
        "\n",
        "#Comprimento do antebraço = 25cm\n",
        "F=25"
      ],
      "execution_count": null,
      "outputs": []
    },
    {
      "cell_type": "markdown",
      "metadata": {
        "id": "6glZjx4F_qDv"
      },
      "source": [
        "###Comprimento dos tubos em função das medidas antropométricas"
      ]
    },
    {
      "cell_type": "code",
      "metadata": {
        "id": "1p0Dr-093SqY"
      },
      "source": [
        "#itens do assento\n",
        "\n",
        "A1 = 3          #junção entre conexões de PVC\n",
        "\n",
        "A2 = C - 18     #comprimento da coxa menos 18cm\n",
        "\n",
        "A3 = A2 + 5     #profundidade do assento, calculado em função de A2\n",
        "\n",
        "A4 = B + 3      #largura do assento, equivalente a largura do quadril mais 3cm\n",
        "\n",
        "A5 = 10         #controla a posição do eixo traseiro\n",
        "\n",
        "A6 = F          #apoio para o antebraço, equivale ao comprimento do antebraço\n",
        "\n",
        "A7 = 9          #controla a altura da cadeira. Recomenda-se até 9cm.\n",
        "\n",
        "A8 = E - 6      #altura do apoio para braço. Equivale a altura do braço menos 5\n",
        "\n",
        "A9 = 0          #constituido de tubo diferente, entao não será considerado\n",
        "\n",
        "A10 = 26        #essa medida representa a altura da haste para empurrar a cadera e fica a criterio do cuidador \n",
        "\n",
        "A11 = 6         #apoio para o encosto\n"
      ],
      "execution_count": null,
      "outputs": []
    },
    {
      "cell_type": "code",
      "metadata": {
        "id": "qFC5S9c17yua"
      },
      "source": [
        "#Itens da base\n",
        "\n",
        "T1 = A1           #junção entre conexões de PVC. Sempre 3cm\n",
        "\n",
        "T2 = A2           #assim como a peça A2, equivale ao comprimento da coxa menos 18cm\n",
        "\n",
        "T3 = 12           #pode variar se quiser customizar o apoio do pé. Recomenda-se o tamanho do pé + 4cm\n",
        "\n",
        "T4 = B + 4        #largura do assento, equivale a largura do quadril mais 4cm\n",
        "\n",
        "T5 = A5           #Precisa ser igual A5. Juntos definem a posição do eixo das rodas traseiras\n",
        "\n",
        "T6 = T2 + 10      #profundidade do assento. Depende de T2.\n",
        "\n",
        "T7 = A7           #define a altura da cadeira de rodas, deve ter o menos tamanho de A7"
      ],
      "execution_count": null,
      "outputs": []
    },
    {
      "cell_type": "code",
      "metadata": {
        "id": "bqFiOg7UCS9k"
      },
      "source": [
        "#Itens do encosto\n",
        "\n",
        "E1 = T1           #junção entre conexões de PVC. Sempre 3cm.\n",
        "\n",
        "E2 = A4 - 17      #Largura do enconto em função da largura da cadeira\n",
        "\n",
        "E3 = A - 15       #Altura do encosto, equivale a largura das costas menos 15cm\n",
        "\n",
        "E4 = 25           #Haste para ajuste da inclinação do encosto. Pode ser 25cm ou mais"
      ],
      "execution_count": null,
      "outputs": []
    },
    {
      "cell_type": "code",
      "metadata": {
        "colab": {
          "base_uri": "https://localhost:8080/"
        },
        "id": "64wr801ngG2L",
        "outputId": "b8411244-3a32-4457-80ec-cd36a65cd636"
      },
      "source": [
        "#Criando um vetor com o nome dos itens\n",
        "codigoTubo = ['A1', 'A2', 'A3', 'A4', 'A5', 'A6', 'A7', 'A8', 'A9_NULO','A10', 'A11', \n",
        "              'T1', 'T2', 'T3', 'T4', 'T5', 'T6', 'T7',\n",
        "              'E1', 'E2', 'E3', 'E4']\n",
        "codigoTubo"
      ],
      "execution_count": null,
      "outputs": [
        {
          "output_type": "execute_result",
          "data": {
            "text/plain": [
              "['A1',\n",
              " 'A2',\n",
              " 'A3',\n",
              " 'A4',\n",
              " 'A5',\n",
              " 'A6',\n",
              " 'A7',\n",
              " 'A8',\n",
              " 'A9_NULO',\n",
              " 'A10',\n",
              " 'A11',\n",
              " 'T1',\n",
              " 'T2',\n",
              " 'T3',\n",
              " 'T4',\n",
              " 'T5',\n",
              " 'T6',\n",
              " 'T7',\n",
              " 'E1',\n",
              " 'E2',\n",
              " 'E3',\n",
              " 'E4']"
            ]
          },
          "metadata": {
            "tags": []
          },
          "execution_count": 612
        }
      ]
    },
    {
      "cell_type": "markdown",
      "metadata": {
        "id": "01D3d-vedDIb"
      },
      "source": [
        "### Resolvendo o problema de EMPACOTAMENTO DE MOCHILAS"
      ]
    },
    {
      "cell_type": "code",
      "metadata": {
        "id": "sgX29bmKdb-U"
      },
      "source": [
        "# Minimizar o número de mochilas I\n",
        "model = LpProblem(\"Empacotamento_mochila\", LpMinimize)"
      ],
      "execution_count": null,
      "outputs": []
    },
    {
      "cell_type": "markdown",
      "metadata": {
        "id": "Gmk_6oqMxsjl"
      },
      "source": [
        "##wJ comprimento (pesos) dos tubos \n",
        "\n",
        "Comprimento do tubo J, com J variando de 0 a 21, pois no total são 22 modelos de tubos a serem cortados."
      ]
    },
    {
      "cell_type": "code",
      "metadata": {
        "colab": {
          "base_uri": "https://localhost:8080/"
        },
        "id": "CnRtRGg_zSfg",
        "outputId": "04739822-ad8e-4724-e912-ff842aa85916"
      },
      "source": [
        "wJ = [] #criação de uma lista para inserir os tamanhos dos tubos\n",
        "\n",
        "#adicionando os tamanhos dos tubos (pesos) no vetor wJ\n",
        "wJ.append(A1)\n",
        "wJ.append(A2)\n",
        "wJ.append(A3)\n",
        "wJ.append(A4)\n",
        "wJ.append(A5)\n",
        "wJ.append(A6)\n",
        "wJ.append(A7)\n",
        "wJ.append(A8)\n",
        "wJ.append(A9)\n",
        "wJ.append(A10)\n",
        "wJ.append(A11)\n",
        "\n",
        "wJ.append(T1)\n",
        "wJ.append(T2)\n",
        "wJ.append(T3)\n",
        "wJ.append(T4)\n",
        "wJ.append(T5)\n",
        "wJ.append(T6)\n",
        "wJ.append(T7)\n",
        "\n",
        "wJ.append(E1)\n",
        "wJ.append(E2)\n",
        "wJ.append(E3)\n",
        "wJ.append(E4)\n",
        "\n",
        "wJmax = len(wJ)\n",
        "wJmax"
      ],
      "execution_count": null,
      "outputs": [
        {
          "output_type": "execute_result",
          "data": {
            "text/plain": [
              "22"
            ]
          },
          "metadata": {
            "tags": []
          },
          "execution_count": 614
        }
      ]
    },
    {
      "cell_type": "code",
      "metadata": {
        "colab": {
          "base_uri": "https://localhost:8080/"
        },
        "id": "22Grzz6xxxPE",
        "outputId": "cf98a7c1-7692-4c2d-f0ec-5b2871cbfcb8"
      },
      "source": [
        "wJ"
      ],
      "execution_count": null,
      "outputs": [
        {
          "output_type": "execute_result",
          "data": {
            "text/plain": [
              "[3,\n",
              " 12,\n",
              " 17,\n",
              " 28,\n",
              " 10,\n",
              " 25,\n",
              " 9,\n",
              " 8,\n",
              " 0,\n",
              " 26,\n",
              " 6,\n",
              " 3,\n",
              " 12,\n",
              " 12,\n",
              " 29,\n",
              " 10,\n",
              " 22,\n",
              " 9,\n",
              " 3,\n",
              " 11,\n",
              " 21,\n",
              " 25]"
            ]
          },
          "metadata": {
            "tags": []
          },
          "execution_count": 615
        }
      ]
    },
    {
      "cell_type": "markdown",
      "metadata": {
        "id": "qRE8Db-aXw-E"
      },
      "source": [
        "###Demanda de cada modelo dJ\n",
        "\n",
        "Quantidade necessária de cada tubo J"
      ]
    },
    {
      "cell_type": "code",
      "metadata": {
        "colab": {
          "base_uri": "https://localhost:8080/"
        },
        "id": "aTSvLqG9YNAV",
        "outputId": "8ac3f044-a086-437d-96af-e148979bb423"
      },
      "source": [
        "dJ = [10,\n",
        "      2,\n",
        "      2,\n",
        "      7,\n",
        "      2,\n",
        "      2,\n",
        "      4,\n",
        "      4,\n",
        "      0,\n",
        "      2,\n",
        "      1,\n",
        "      12,\n",
        "      2,\n",
        "      2,\n",
        "      6,\n",
        "      4,\n",
        "      2,\n",
        "      6,\n",
        "      2,\n",
        "      2,\n",
        "      2,\n",
        "      1]\n",
        "\n",
        "dJmax=len(dJ)\n",
        "dJmax"
      ],
      "execution_count": null,
      "outputs": [
        {
          "output_type": "execute_result",
          "data": {
            "text/plain": [
              "22"
            ]
          },
          "metadata": {
            "tags": []
          },
          "execution_count": 616
        }
      ]
    },
    {
      "cell_type": "code",
      "metadata": {
        "colab": {
          "base_uri": "https://localhost:8080/"
        },
        "id": "JLr3qgSgZwOB",
        "outputId": "2e8c3b79-ebdd-4f00-a52d-058544dc32fd"
      },
      "source": [
        "dJ"
      ],
      "execution_count": null,
      "outputs": [
        {
          "output_type": "execute_result",
          "data": {
            "text/plain": [
              "[10, 2, 2, 7, 2, 2, 4, 4, 0, 2, 1, 12, 2, 2, 6, 4, 2, 6, 2, 2, 2, 1]"
            ]
          },
          "metadata": {
            "tags": []
          },
          "execution_count": 617
        }
      ]
    },
    {
      "cell_type": "markdown",
      "metadata": {
        "id": "P6eH3dO8aCXw"
      },
      "source": [
        "### yI: Variável binária ativada caso a mochila I seja usada."
      ]
    },
    {
      "cell_type": "code",
      "metadata": {
        "id": "83NblwzJ150t",
        "colab": {
          "base_uri": "https://localhost:8080/"
        },
        "outputId": "76b5fc19-f094-4df4-d55d-838e75bc4373"
      },
      "source": [
        "#O limitante superior do número de mochilas é o número n de itens, já que não faz sentido mais mochilas do que itens.\n",
        "Ntubos = list(range(0, wJmax))\n",
        "Ntubos"
      ],
      "execution_count": null,
      "outputs": [
        {
          "output_type": "execute_result",
          "data": {
            "text/plain": [
              "[0, 1, 2, 3, 4, 5, 6, 7, 8, 9, 10, 11, 12, 13, 14, 15, 16, 17, 18, 19, 20, 21]"
            ]
          },
          "metadata": {
            "tags": []
          },
          "execution_count": 618
        }
      ]
    },
    {
      "cell_type": "code",
      "metadata": {
        "id": "JyxDjOAw8RM6"
      },
      "source": [
        "#for i in Ntubos:\n",
        "#  print(i)"
      ],
      "execution_count": null,
      "outputs": []
    },
    {
      "cell_type": "code",
      "metadata": {
        "id": "v-ajC6es8QyW"
      },
      "source": [
        "#yI\n",
        "yI = LpVariable.dicts(\"yI\", [i for i in Ntubos], lowBound=0, cat=\"Binary\")"
      ],
      "execution_count": null,
      "outputs": []
    },
    {
      "cell_type": "markdown",
      "metadata": {
        "id": "a_WaCTS5fCWJ"
      },
      "source": [
        "### xIJ: Variável binária se o item J é colocado na mochila I"
      ]
    },
    {
      "cell_type": "code",
      "metadata": {
        "id": "zam8NVTofBH5"
      },
      "source": [
        "#xIJ\n",
        "xIJ = LpVariable.dicts(\"xIJ\", [(i,j) for i in Ntubos for j in Ntubos], lowBound=0, cat=\"Binary\")"
      ],
      "execution_count": null,
      "outputs": []
    },
    {
      "cell_type": "markdown",
      "metadata": {
        "id": "Ik9ZQo_pf9PD"
      },
      "source": [
        "#Função Objetivo"
      ]
    },
    {
      "cell_type": "code",
      "metadata": {
        "id": "ORYWl8Dif8kF"
      },
      "source": [
        "#Equação 1\n",
        "model += lpSum(yI[i] for i in Ntubos)"
      ],
      "execution_count": null,
      "outputs": []
    },
    {
      "cell_type": "markdown",
      "metadata": {
        "id": "ecPXE3Q9gjhk"
      },
      "source": [
        "#Restrições"
      ]
    },
    {
      "cell_type": "code",
      "metadata": {
        "id": "2b3Xzs9wgoKf"
      },
      "source": [
        "#Equação 2\n",
        "for j in Ntubos:\n",
        "    model += (lpSum(xIJ[i,j] for i in Ntubos) == 1)\n",
        "    #print(lpSum(xIJ[i,j] for i in Ntubos),'= 1')"
      ],
      "execution_count": null,
      "outputs": []
    },
    {
      "cell_type": "code",
      "metadata": {
        "id": "R3EnZMqfivTy"
      },
      "source": [
        "#Equação 3\n",
        "for i in Ntubos:\n",
        "  model += (lpSum(wJ[j]*xIJ[i,j] for j in Ntubos) <= 300*yI[i])   #Porque o tamanho do tubo é 300cm ou 3m \n",
        "  #print(lpSum(wJ[j]*xIJ[i,j] for j in Ntubos),' <= ', 300*yI[i])"
      ],
      "execution_count": null,
      "outputs": []
    },
    {
      "cell_type": "code",
      "metadata": {
        "id": "MD7lggIxo4Sg"
      },
      "source": [
        "#Equação 4\n",
        "#Define as variáveis conforme no início"
      ],
      "execution_count": null,
      "outputs": []
    },
    {
      "cell_type": "markdown",
      "metadata": {
        "id": "AS13a3fupFqU"
      },
      "source": [
        "#Otimizando"
      ]
    },
    {
      "cell_type": "code",
      "metadata": {
        "colab": {
          "base_uri": "https://localhost:8080/"
        },
        "id": "_wgccdNSpOjm",
        "outputId": "8c8269dd-9c29-4bdf-9a5e-1d20a5c063a9"
      },
      "source": [
        "import time\n",
        "start_time = time.time()\n",
        "\n",
        "optimization_result = model.solve(solver)\n",
        "LpStatus[model.status]\n",
        "\n",
        "print(\"--- %s seconds ---\" % (time.time() - start_time))"
      ],
      "execution_count": null,
      "outputs": [
        {
          "output_type": "stream",
          "text": [
            "--- 0.046469926834106445 seconds ---\n"
          ],
          "name": "stdout"
        }
      ]
    },
    {
      "cell_type": "code",
      "metadata": {
        "id": "oLePVqDApT9s"
      },
      "source": [
        "#model"
      ],
      "execution_count": null,
      "outputs": []
    },
    {
      "cell_type": "code",
      "metadata": {
        "colab": {
          "base_uri": "https://localhost:8080/",
          "height": 35
        },
        "id": "eN4iPZSKpZFo",
        "outputId": "d5030346-9e2c-49c5-9c60-90ae33d73d5e"
      },
      "source": [
        "#https://stackoverflow.com/questions/64405352/lpaffineexpression-object-has-no-attribute-solve-in-pulp-lp-problem-optimiz\n",
        "#resolvendo o problema\n",
        "# optimization_result = model.solve()\n",
        "LpStatus[model.status]"
      ],
      "execution_count": null,
      "outputs": [
        {
          "output_type": "execute_result",
          "data": {
            "application/vnd.google.colaboratory.intrinsic+json": {
              "type": "string"
            },
            "text/plain": [
              "'Optimal'"
            ]
          },
          "metadata": {
            "tags": []
          },
          "execution_count": 628
        }
      ]
    },
    {
      "cell_type": "code",
      "metadata": {
        "id": "UUqhVJSVpZ2V"
      },
      "source": [
        "#Verificando se a solução ótima foi encontrada\n",
        "assert optimization_result == LpStatusOptimal"
      ],
      "execution_count": null,
      "outputs": []
    },
    {
      "cell_type": "markdown",
      "metadata": {
        "id": "DiHuK44ipslk"
      },
      "source": [
        "#Resultados"
      ]
    },
    {
      "cell_type": "code",
      "metadata": {
        "colab": {
          "base_uri": "https://localhost:8080/"
        },
        "id": "1yb9NgOhpuqt",
        "outputId": "2308cfb8-7349-43cc-bc8b-5ffaff1f47e2"
      },
      "source": [
        "print(model.objective)"
      ],
      "execution_count": null,
      "outputs": [
        {
          "output_type": "stream",
          "text": [
            "yI_0 + yI_1 + yI_10 + yI_11 + yI_12 + yI_13 + yI_14 + yI_15 + yI_16 + yI_17 + yI_18 + yI_19 + yI_2 + yI_20 + yI_21 + yI_3 + yI_4 + yI_5 + yI_6 + yI_7 + yI_8 + yI_9\n"
          ],
          "name": "stdout"
        }
      ]
    },
    {
      "cell_type": "code",
      "metadata": {
        "colab": {
          "base_uri": "https://localhost:8080/"
        },
        "id": "nKOYpzLNp2jg",
        "outputId": "689db79d-5070-485f-a67e-c75b2f517862"
      },
      "source": [
        "value(model.objective)"
      ],
      "execution_count": null,
      "outputs": [
        {
          "output_type": "execute_result",
          "data": {
            "text/plain": [
              "2.0"
            ]
          },
          "metadata": {
            "tags": []
          },
          "execution_count": 631
        }
      ]
    },
    {
      "cell_type": "code",
      "metadata": {
        "colab": {
          "base_uri": "https://localhost:8080/"
        },
        "id": "ybaXxnk5p7rK",
        "outputId": "a9d271a0-fcc9-40ff-b4d4-820483d8b9f4"
      },
      "source": [
        "model.objective.value()"
      ],
      "execution_count": null,
      "outputs": [
        {
          "output_type": "execute_result",
          "data": {
            "text/plain": [
              "2.0"
            ]
          },
          "metadata": {
            "tags": []
          },
          "execution_count": 632
        }
      ]
    },
    {
      "cell_type": "code",
      "metadata": {
        "id": "BvdlCkr9p_dO"
      },
      "source": [
        "#model.variables()"
      ],
      "execution_count": null,
      "outputs": []
    },
    {
      "cell_type": "code",
      "metadata": {
        "colab": {
          "base_uri": "https://localhost:8080/"
        },
        "id": "i9nPyHo29Nn3",
        "outputId": "8da31661-95d6-40d5-d556-80cf3b6a82a0"
      },
      "source": [
        "#Separando yI ativas para verificar a quantidade de tubos\n",
        "SomaTubo = 0\n",
        "\n",
        "for v in model.variables():\n",
        "  #separando as informações\n",
        "  if v.varValue > 0: #somente variaveis yI ativas\n",
        "    if v.name[:2] == \"yI\":\n",
        "      print('Mochila ativa: ', v.name)\n",
        "      SomaTubo = SomaTubo + 1\n",
        "\n",
        "print('_______________________________')\n",
        "print('Total de tubos necessários: ', SomaTubo)"
      ],
      "execution_count": null,
      "outputs": [
        {
          "output_type": "stream",
          "text": [
            "Mochila ativa:  yI_0\n",
            "Mochila ativa:  yI_8\n",
            "_______________________________\n",
            "Total de tubos necessários:  2\n"
          ],
          "name": "stdout"
        }
      ]
    },
    {
      "cell_type": "code",
      "metadata": {
        "id": "bQMk4geqCxo3"
      },
      "source": [
        "# Verificando padrões de corte\n",
        "\n",
        "#Vetores para receber os padrões\n",
        "vetorTubo0 = []  #cria um vetor Tubo 0 para receber os tubos a serem cortados\n",
        "vetorTubo1 = []  #cria um vetor Tubo 1 para receber os tubos a serem cortados\n",
        "vetorTubo2 = []  #cria um vetor Tubo 2 para receber os tubos a serem cortados\n",
        "vetorTubo3 = []  #cria um vetor Tubo 3 para receber os tubos a serem cortados\n",
        "vetorTubo4 = []  #cria um vetor Tubo 4 para receber os tubos a serem cortados\n",
        "vetorTubo5 = []  #cria um vetor Tubo 5 para receber os tubos a serem cortados\n",
        "vetorTubo6 = []  #cria um vetor Tubo 5 para receber os tubos a serem cortados\n",
        "vetorTubo7 = []  #cria um vetor Tubo 5 para receber os tubos a serem cortados\n",
        "vetorTubo8 = []  #cria um vetor Tubo 5 para receber os tubos a serem cortados\n",
        "vetorTubo9 = []  #cria um vetor Tubo 5 para receber os tubos a serem cortados\n",
        "vetorTubo10 = []  #cria um vetor Tubo 5 para receber os tubos a serem cortados\n",
        "vetorTubo11 = []  #cria um vetor Tubo 5 para receber os tubos a serem cortados\n",
        "vetorTubo12 = []  #cria um vetor Tubo 5 para receber os tubos a serem cortados\n",
        "vetorTubo13 = []  #cria um vetor Tubo 5 para receber os tubos a serem cortados\n",
        "vetorTubo14 = []  #cria um vetor Tubo 5 para receber os tubos a serem cortados\n",
        "vetorTubo15 = []  #cria um vetor Tubo 5 para receber os tubos a serem cortados\n",
        "vetorTubo16 = []  #cria um vetor Tubo 5 para receber os tubos a serem cortados\n",
        "vetorTubo17 = []  #cria um vetor Tubo 5 para receber os tubos a serem cortados\n",
        "vetorTubo18 = []  #cria um vetor Tubo 5 para receber os tubos a serem cortados\n",
        "vetorTubo19 = []  #cria um vetor Tubo 5 para receber os tubos a serem cortados\n",
        "vetorTubo20 = []  #cria um vetor Tubo 5 para receber os tubos a serem cortados\n",
        "vetorTubo21 = []  #cria um vetor Tubo 5 para receber os tubos a serem cortados\n",
        "\n",
        "#separando as informações\n",
        "#Tubo 0\n",
        "for v in model.variables():\n",
        "  #separando as informações\n",
        "  if v.varValue > 0: #somente variaveis yI ativas\n",
        "    if v.name[:6] == \"xIJ_(0\":\n",
        "      if v.name[9:10] ==\")\":\n",
        "        item = int(v.name[8:9])\n",
        "        vetorTubo0.append(item)\n",
        "        #print('Mochila 0: Item', item)\n",
        "      else:\n",
        "        item = int(v.name[8:10])\n",
        "        vetorTubo0.append(item)\n",
        "        #print('Mochila 0: Item', item)\n",
        "\n",
        "#Tubo 1\n",
        "for v in model.variables():\n",
        "  #separando as informações\n",
        "  if v.varValue > 0: #somente variaveis yI ativas\n",
        "    if v.name[:6] == \"xIJ_(1\":\n",
        "      if v.name[9:10] ==\")\":\n",
        "        item = int(v.name[8:9])\n",
        "        vetorTubo1.append(item)\n",
        "        #print('Mochila 0: Item', item)\n",
        "      else:\n",
        "        item = int(v.name[8:10])\n",
        "        vetorTubo1.append(item)\n",
        "        #print('Mochila 0: Item', item)\n",
        "\n",
        "#Tubo 2\n",
        "for v in model.variables():\n",
        "#separando as informações\n",
        "  if v.varValue > 0: #somente variaveis yI ativas\n",
        "    if v.name[:6] == \"xIJ_(2\":\n",
        "      if v.name[9:10] ==\")\":\n",
        "        item = int(v.name[8:9])\n",
        "        vetorTubo2.append(item)\n",
        "        #print('Mochila 0: Item', item)\n",
        "      else:\n",
        "        item = int(v.name[8:10])\n",
        "        vetorTubo2.append(item)\n",
        "        #print('Mochila 0: Item', item)\n",
        "\n",
        "#Tubo 3\n",
        "for v in model.variables():\n",
        "#separando as informações\n",
        "  if v.varValue > 0: #somente variaveis yI ativas\n",
        "    if v.name[:6] == \"xIJ_(3\":\n",
        "      if v.name[9:10] ==\")\":\n",
        "        item = int(v.name[8:9])\n",
        "        vetorTubo3.append(item)\n",
        "        #print('Mochila 0: Item', item)\n",
        "      else:\n",
        "        item = int(v.name[8:10])\n",
        "        vetorTubo3.append(item)\n",
        "        #print('Mochila 0: Item', item)\n",
        "\n",
        "#Tubo 4\n",
        "for v in model.variables():\n",
        "#separando as informações\n",
        "  if v.varValue > 0: #somente variaveis yI ativas\n",
        "    if v.name[:6] == \"xIJ_(4\":\n",
        "      if v.name[9:10] ==\")\":\n",
        "        item = int(v.name[8:9])\n",
        "        vetorTubo4.append(item)\n",
        "        #print('Mochila 0: Item', item)\n",
        "      else:\n",
        "        item = int(v.name[8:10])\n",
        "        vetorTubo4.append(item)\n",
        "        #print('Mochila 0: Item', item)\n",
        "\n",
        "#Tubo 5\n",
        "for v in model.variables():\n",
        "  #separando as informações\n",
        "  if v.varValue > 0: #somente variaveis yI ativas\n",
        "    if v.name[:6] == \"xIJ_(5\":\n",
        "      if v.name[9:10] ==\")\":\n",
        "        item = int(v.name[8:9])\n",
        "        vetorTubo5.append(item)\n",
        "        #print('Mochila 0: Item', item)\n",
        "      else:\n",
        "        item = int(v.name[8:10])\n",
        "        vetorTubo5.append(item)\n",
        "        #print('Mochila 0: Item', item)\n",
        "\n",
        "#Tubo 6\n",
        "for v in model.variables():\n",
        "  #separando as informações\n",
        "  if v.varValue > 0: #somente variaveis yI ativas\n",
        "    if v.name[:6] == \"xIJ_(6\":\n",
        "      if v.name[9:10] ==\")\":\n",
        "        item = int(v.name[8:9])\n",
        "        vetorTubo6.append(item)\n",
        "        #print('Mochila 0: Item', item)\n",
        "      else:\n",
        "        item = int(v.name[8:10])\n",
        "        vetorTubo6.append(item)\n",
        "        #print('Mochila 0: Item', item)\n",
        "\n",
        "#Tubo 7\n",
        "for v in model.variables():\n",
        "  #separando as informações\n",
        "  if v.varValue > 0: #somente variaveis yI ativas\n",
        "    if v.name[:6] == \"xIJ_(7\":\n",
        "      if v.name[9:10] ==\")\":\n",
        "        item = int(v.name[8:9])\n",
        "        vetorTubo7.append(item)\n",
        "        #print('Mochila 0: Item', item)\n",
        "      else:\n",
        "        item = int(v.name[8:10])\n",
        "        vetorTubo7.append(item)\n",
        "        #print('Mochila 0: Item', item)\n",
        "\n",
        "#Tubo 8\n",
        "for v in model.variables():\n",
        "  #separando as informações\n",
        "  if v.varValue > 0: #somente variaveis yI ativas\n",
        "    if v.name[:6] == \"xIJ_(8\":\n",
        "      if v.name[9:10] ==\")\":\n",
        "        item = int(v.name[8:9])\n",
        "        vetorTubo8.append(item)\n",
        "        #print('Mochila 0: Item', item)\n",
        "      else:\n",
        "        item = int(v.name[8:10])\n",
        "        vetorTubo8.append(item)\n",
        "        #print('Mochila 0: Item', item)\n",
        "\n",
        "#Tubo 9\n",
        "for v in model.variables():\n",
        "  #separando as informações\n",
        "  if v.varValue > 0: #somente variaveis yI ativas\n",
        "    if v.name[:6] == \"xIJ_(9\":\n",
        "      if v.name[9:10] ==\")\":\n",
        "        item = int(v.name[8:9])\n",
        "        vetorTubo9.append(item)\n",
        "        #print('Mochila 0: Item', item)\n",
        "      else:\n",
        "        item = int(v.name[8:10])\n",
        "        vetorTubo9.append(item)\n",
        "        #print('Mochila 0: Item', item)\n",
        "\n",
        "#Tubo 10\n",
        "for v in model.variables():\n",
        "  #separando as informações\n",
        "  if v.varValue > 0: #somente variaveis yI ativas\n",
        "    if v.name[:7] == \"xIJ_(10\":\n",
        "      if v.name[9:10] ==\")\":\n",
        "        item = int(v.name[8:9])\n",
        "        vetorTubo9.append(item)\n",
        "        #print('Mochila 0: Item', item)\n",
        "      else:\n",
        "        item = int(v.name[8:10])\n",
        "        vetorTubo9.append(item)\n",
        "        #print('Mochila 0: Item', item)"
      ],
      "execution_count": null,
      "outputs": []
    },
    {
      "cell_type": "markdown",
      "metadata": {
        "id": "phwp1tRksOWY"
      },
      "source": [
        "###Imprimindo os resultados"
      ]
    },
    {
      "cell_type": "code",
      "metadata": {
        "colab": {
          "base_uri": "https://localhost:8080/"
        },
        "id": "V1soCBl-T5wI",
        "outputId": "07532cd6-46ba-4ae3-a460-3f820cd9ae17"
      },
      "source": [
        "#Imprimindo os padrões de corte\n",
        "\n",
        "if len(vetorTubo0) != 0:\n",
        "  print('Padrão de corte 0: ')\n",
        "  vetorTubo0.sort()\n",
        "  somaTubo0 = 0\n",
        "  for y in vetorTubo0:\n",
        "    ct = codigoTubo[y]\n",
        "    peso = wJ[y]\n",
        "    print(\"Item \", y,\" -> Código: \", ct, \"-> Comprimento(cm): \", peso )\n",
        "    somaTubo0 = somaTubo0 + peso\n",
        "  print(\"__________________________________________________\")\n",
        "  print(\"                           Soma dos tubos = \", somaTubo0)\n",
        "    \n",
        "\n",
        "if len(vetorTubo1) != 0:\n",
        "  print('\\n')\n",
        "  print('Padrão de corte 1: ')\n",
        "  vetorTubo1.sort()\n",
        "  print(vetorTubo1)\n",
        "  for y in vetorTubo1:\n",
        "    ct = codigoTubo[y]\n",
        "    peso = wJ[y]\n",
        "    print(\"Item \", y,\" -> Código: \", ct, \"-> Comprimento(cm): \", peso )\n",
        "\n",
        "if len(vetorTubo2) != 0:\n",
        "  print('\\n')\n",
        "  print('Padrão de corte 2: ')\n",
        "  vetorTubo2.sort()\n",
        "  for y in vetorTubo2:\n",
        "    ct = codigoTubo[y]\n",
        "    peso = wJ[y]\n",
        "    print(\"Item \", y,\" -> Código: \", ct, \"-> Comprimento(cm): \", peso )\n",
        "\n",
        "if len(vetorTubo3) != 0:\n",
        "  print('\\n')\n",
        "  print('Padrão de corte 3: ')\n",
        "  vetorTubo3.sort()\n",
        "  for y in vetorTubo3:\n",
        "    ct = codigoTubo[y]\n",
        "    peso = wJ[y]\n",
        "    print(\"Item \", y,\" -> Código: \", ct, \"-> Comprimento(cm): \", peso )\n",
        "\n",
        "if len(vetorTubo4) != 0:\n",
        "  print('\\n')\n",
        "  print('Padrão de corte 4: ')\n",
        "  vetorTubo4.sort()\n",
        "  for y in vetorTubo4:\n",
        "    ct = codigoTubo[y]\n",
        "    peso = wJ[y]\n",
        "    print(\"Item \", y,\" -> Código: \", ct, \"-> Comprimento(cm): \", peso )\n",
        "\n",
        "if len(vetorTubo5) != 0:\n",
        "  print('\\n')\n",
        "  print('Padrão de corte 5: ')\n",
        "  vetorTubo5.sort()\n",
        "  for y in vetorTubo5:\n",
        "    ct = codigoTubo[y]\n",
        "    peso = wJ[y]\n",
        "    print(\"Item \", y,\" -> Código: \", ct, \"-> Comprimento(cm): \", peso )\n",
        "\n",
        "if len(vetorTubo6) != 0:\n",
        "  print('\\n')\n",
        "  print('Padrão de corte 6: ')\n",
        "  vetorTubo6.sort()\n",
        "  for y in vetorTubo6:\n",
        "    ct = codigoTubo[y]\n",
        "    peso = wJ[y]\n",
        "    print(\"Item \", y,\" -> Código: \", ct, \"-> Comprimento(cm): \", peso )\n",
        "\n",
        "if len(vetorTubo7) != 0:\n",
        "  print('\\n')\n",
        "  print('Padrão de corte 7: ')\n",
        "  vetorTubo7.sort()\n",
        "  for y in vetorTubo7:\n",
        "    ct = codigoTubo[y]\n",
        "    peso = wJ[y]\n",
        "    print(\"Item \", y,\" -> Código: \", ct, \"-> Comprimento(cm): \", peso )\n",
        "\n",
        "if len(vetorTubo8) != 0:\n",
        "  print('\\n')\n",
        "  print('Padrão de corte 8: ')\n",
        "  vetorTubo8.sort()\n",
        "  for y in vetorTubo8:\n",
        "    ct = codigoTubo[y]\n",
        "    peso = wJ[y]\n",
        "    print(\"Item \", y,\" -> Código: \", ct, \"-> Comprimento(cm): \", peso )\n",
        "\n",
        "if len(vetorTubo9) != 0:\n",
        "  print('\\n')\n",
        "  print('Padrão de corte 9: ')\n",
        "  vetorTubo9.sort()\n",
        "  for y in vetorTubo9:\n",
        "    ct = codigoTubo[y]\n",
        "    peso = wJ[y]\n",
        "    print(\"Item \", y,\" -> Código: \", ct, \"-> Comprimento(cm): \", peso )\n",
        "\n",
        "if len(vetorTubo10) != 0:\n",
        "  print('\\n')\n",
        "  print('Padrão de corte 10: ')\n",
        "  vetorTubo10.sort()\n",
        "  for y in vetorTubo10:\n",
        "    ct = codigoTubo[y]\n",
        "    peso = wJ[y]\n",
        "    print(\"Item \", y,\" -> Código: \", ct, \"-> Comprimento(cm): \", peso )\n",
        "\n",
        "if len(vetorTubo11) != 0:\n",
        "  print('\\n')\n",
        "  print('Padrão de corte 11: ')\n",
        "  vetorTubo11.sort()\n",
        "  for y in vetorTubo11:\n",
        "    ct = codigoTubo[y]\n",
        "    peso = wJ[y]\n",
        "    print(\"Item \", y,\" -> Código: \", ct, \"-> Comprimento(cm): \", peso )\n",
        "\n",
        "if len(vetorTubo12) != 0:\n",
        "  print('\\n')\n",
        "  print('Padrão de corte 12: ')\n",
        "  vetorTubo12.sort()\n",
        "  for y in vetorTubo12:\n",
        "    ct = codigoTubo[y]\n",
        "    peso = wJ[y]\n",
        "    print(\"Item \", y,\" -> Código: \", ct, \"-> Comprimento(cm): \", peso )\n",
        "\n",
        "if len(vetorTubo13) != 0:\n",
        "  print('\\n')\n",
        "  print('Padrão de corte 13: ')\n",
        "  vetorTubo13.sort()\n",
        "  for y in vetorTubo13:\n",
        "    ct = codigoTubo[y]\n",
        "    peso = wJ[y]\n",
        "    print(\"Item \", y,\" -> Código: \", ct, \"-> Comprimento(cm): \", peso )\n",
        "\n",
        "if len(vetorTubo14) != 0:\n",
        "  print('\\n')\n",
        "  print('Padrão de corte 14: ')\n",
        "  vetorTubo14.sort()\n",
        "  for y in vetorTubo14:\n",
        "    ct = codigoTubo[y]\n",
        "    peso = wJ[y]\n",
        "    print(\"Item \", y,\" -> Código: \", ct, \"-> Comprimento(cm): \", peso )\n",
        "\n",
        "if len(vetorTubo15) != 0:\n",
        "  print('\\n')\n",
        "  print('Padrão de corte 15: ')\n",
        "  vetorTubo15.sort()\n",
        "  for y in vetorTubo15:\n",
        "    ct = codigoTubo[y]\n",
        "    peso = wJ[y]\n",
        "    print(\"Item \", y,\" -> Código: \", ct, \"-> Comprimento(cm): \", peso )\n",
        "\n",
        "if len(vetorTubo16) != 0:\n",
        "  print('\\n')\n",
        "  print('Padrão de corte 16: ')\n",
        "  vetorTubo16.sort()\n",
        "  for y in vetorTubo16:\n",
        "    ct = codigoTubo[y]\n",
        "    peso = wJ[y]\n",
        "    print(\"Item \", y,\" -> Código: \", ct, \"-> Comprimento(cm): \", peso )\n",
        "\n",
        "if len(vetorTubo17) != 0:\n",
        "  print('\\n')\n",
        "  print('Padrão de corte 17: ')\n",
        "  vetorTubo17.sort()\n",
        "  for y in vetorTubo17:\n",
        "    ct = codigoTubo[y]\n",
        "    peso = wJ[y]\n",
        "    print(\"Item \", y,\" -> Código: \", ct, \"-> Comprimento(cm): \", peso )\n",
        "\n",
        "if len(vetorTubo18) != 0:\n",
        "  print('\\n')\n",
        "  print('Padrão de corte 18: ')\n",
        "  vetorTubo18.sort()\n",
        "  for y in vetorTubo18:\n",
        "    ct = codigoTubo[y]\n",
        "    peso = wJ[y]\n",
        "    print(\"Item \", y,\" -> Código: \", ct, \"-> Comprimento(cm): \", peso )\n",
        "\n",
        "if len(vetorTubo19) != 0:\n",
        "  print('\\n')\n",
        "  print('Padrão de corte 19: ')\n",
        "  vetorTubo19.sort()\n",
        "  for y in vetorTubo19:\n",
        "    ct = codigoTubo[y]\n",
        "    peso = wJ[y]\n",
        "    print(\"Item \", y,\" -> Código: \", ct, \"-> Comprimento(cm): \", peso )\n",
        "\n",
        "if len(vetorTubo20) != 0:\n",
        "  print('\\n')\n",
        "  print('Padrão de corte 20: ')\n",
        "  vetorTubo20.sort()\n",
        "  for y in vetorTubo20:\n",
        "    ct = codigoTubo[y]\n",
        "    peso = wJ[y]\n",
        "    print(\"Item \", y,\" -> Código: \", ct, \"-> Comprimento(cm): \", peso )\n",
        "\n",
        "if len(vetorTubo21) != 0:\n",
        "  print('\\n')\n",
        "  print('Padrão de corte 21: ')\n",
        "  vetorTubo21.sort()\n",
        "  for y in vetorTubo21:\n",
        "    ct = codigoTubo[y]\n",
        "    peso = wJ[y]\n",
        "    print(\"Item \", y,\" -> Código: \", ct, \"-> Comprimento(cm): \", peso )\n",
        "\n",
        "\n",
        "#Separando yI ativas para verificar a quantidade de tubos\n",
        "SomaTubo = 0\n",
        "print('\\n')\n",
        "print('_______________________________')\n",
        "print('\\n')\n",
        "\n",
        "for v in model.variables():\n",
        "  #separando as informações\n",
        "  if v.varValue > 0: #somente variaveis yI ativas\n",
        "    if v.name[:2] == \"yI\":\n",
        "      print('Mochila ativa: ', v.name)\n",
        "      SomaTubo = SomaTubo + 1\n",
        "\n",
        "print('_______________________________')\n",
        "print('Total de tubos necessários: ', SomaTubo)"
      ],
      "execution_count": null,
      "outputs": [
        {
          "output_type": "stream",
          "text": [
            "Padrão de corte 0: \n",
            "Item  0  -> Código:  A1 -> Comprimento(cm):  3\n",
            "Item  1  -> Código:  A2 -> Comprimento(cm):  12\n",
            "Item  2  -> Código:  A3 -> Comprimento(cm):  17\n",
            "Item  3  -> Código:  A4 -> Comprimento(cm):  28\n",
            "Item  4  -> Código:  A5 -> Comprimento(cm):  10\n",
            "Item  5  -> Código:  A6 -> Comprimento(cm):  25\n",
            "Item  6  -> Código:  A7 -> Comprimento(cm):  9\n",
            "Item  7  -> Código:  A8 -> Comprimento(cm):  8\n",
            "Item  9  -> Código:  A10 -> Comprimento(cm):  26\n",
            "Item  10  -> Código:  A11 -> Comprimento(cm):  6\n",
            "Item  11  -> Código:  T1 -> Comprimento(cm):  3\n",
            "Item  12  -> Código:  T2 -> Comprimento(cm):  12\n",
            "Item  13  -> Código:  T3 -> Comprimento(cm):  12\n",
            "Item  15  -> Código:  T5 -> Comprimento(cm):  10\n",
            "Item  16  -> Código:  T6 -> Comprimento(cm):  22\n",
            "Item  17  -> Código:  T7 -> Comprimento(cm):  9\n",
            "Item  18  -> Código:  E1 -> Comprimento(cm):  3\n",
            "Item  19  -> Código:  E2 -> Comprimento(cm):  11\n",
            "Item  20  -> Código:  E3 -> Comprimento(cm):  21\n",
            "Item  21  -> Código:  E4 -> Comprimento(cm):  25\n",
            "__________________________________________________\n",
            "                           Soma dos tubos =  272\n",
            "\n",
            "\n",
            "Padrão de corte 8: \n",
            "Item  14  -> Código:  T4 -> Comprimento(cm):  29\n",
            "\n",
            "\n",
            "Padrão de corte 9: \n",
            "Item  8  -> Código:  A9_NULO -> Comprimento(cm):  0\n",
            "\n",
            "\n",
            "_______________________________\n",
            "\n",
            "\n",
            "Mochila ativa:  yI_0\n",
            "Mochila ativa:  yI_8\n",
            "_______________________________\n",
            "Total de tubos necessários:  2\n"
          ],
          "name": "stdout"
        }
      ]
    },
    {
      "cell_type": "code",
      "metadata": {
        "colab": {
          "base_uri": "https://localhost:8080/"
        },
        "id": "61oxZN15E1O4",
        "outputId": "a7911e8a-0a3a-49be-d2dd-30a13caedb6a"
      },
      "source": [
        ""
      ],
      "execution_count": null,
      "outputs": [
        {
          "output_type": "stream",
          "text": [
            "Mochila ativa:  yI_0\n",
            "Mochila ativa:  yI_8\n",
            "_______________________________\n",
            "Total de tubos necessários:  2\n"
          ],
          "name": "stdout"
        }
      ]
    }
  ]
}