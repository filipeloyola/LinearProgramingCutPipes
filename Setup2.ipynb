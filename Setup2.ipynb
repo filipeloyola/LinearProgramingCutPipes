{
  "nbformat": 4,
  "nbformat_minor": 0,
  "metadata": {
    "kernelspec": {
      "display_name": "Python 3",
      "language": "python",
      "name": "python3"
    },
    "language_info": {
      "codemirror_mode": {
        "name": "ipython",
        "version": 3
      },
      "file_extension": ".py",
      "mimetype": "text/x-python",
      "name": "python",
      "nbconvert_exporter": "python",
      "pygments_lexer": "ipython3",
      "version": "3.7.6"
    },
    "colab": {
      "name": "Projeto_finalPL_v2_ok.ipynb",
      "provenance": []
    }
  },
  "cells": [
    {
      "cell_type": "markdown",
      "metadata": {
        "id": "3Xg69BWXchB9"
      },
      "source": [
        "# **LINEAR PROGRAMMING APPLIED TO THE MATERIAL OPTIMIZATION FOR THE CONSTRUCTION OF A PEDIATRIC ELECTRIC WHEELCHAIR BUILT WITH PVC PIPES**\n",
        "\n",
        "Linear Programming, demand of 78 items (Setup two)\n",
        "\n",
        "\n",
        "22 / 06 / 2022\n",
        "\n",
        "Doutorando Filipe Loyola Lopes\n",
        "\n",
        "Prof. Dr. Luiz Leduino Salles Neto\n"
      ]
    },
    {
      "cell_type": "code",
      "metadata": {
        "colab": {
          "base_uri": "https://localhost:8080/"
        },
        "id": "ABtvA9xk0BhF",
        "outputId": "5a25efca-7b3e-406a-ba31-30ab3b36e4ae"
      },
      "source": [
        "pip install pulp"
      ],
      "execution_count": null,
      "outputs": [
        {
          "output_type": "stream",
          "text": [
            "Requirement already satisfied: pulp in /usr/local/lib/python3.6/dist-packages (2.3.1)\n",
            "Requirement already satisfied: amply>=0.1.2 in /usr/local/lib/python3.6/dist-packages (from pulp) (0.1.4)\n",
            "Requirement already satisfied: docutils>=0.3 in /usr/local/lib/python3.6/dist-packages (from amply>=0.1.2->pulp) (0.16)\n",
            "Requirement already satisfied: pyparsing in /usr/local/lib/python3.6/dist-packages (from amply>=0.1.2->pulp) (2.4.7)\n"
          ],
          "name": "stdout"
        }
      ]
    },
    {
      "cell_type": "code",
      "metadata": {
        "colab": {
          "base_uri": "https://localhost:8080/"
        },
        "id": "zCuCy6SS0DIC",
        "outputId": "63a819cb-185b-45ae-e795-171ead5467ec"
      },
      "source": [
        "#Bibliotecas\n",
        "import pulp as pl \n",
        "import math\n",
        "import pandas as pd\n",
        "from pulp import *\n",
        "solver_list = pl.list_solvers(onlyAvailable=True)\n",
        "solver_list"
      ],
      "execution_count": null,
      "outputs": [
        {
          "output_type": "execute_result",
          "data": {
            "text/plain": [
              "['PULP_CBC_CMD', 'PULP_CHOCO_CMD']"
            ]
          },
          "metadata": {
            "tags": []
          },
          "execution_count": 176
        }
      ]
    },
    {
      "cell_type": "code",
      "metadata": {
        "id": "MSJERIC30Moi"
      },
      "source": [
        "#https://coin-or.github.io/pulp/guides/how_to_configure_solvers.html\n",
        "#solver = pl.getSolver('CPLEX_CMD')\n",
        "#solver = pl.getSolver('PULP_CBC_CMD', timeLimit=1200)# após xx segundos interrompe o processo\n",
        "solver = pl.getSolver('PULP_CBC_CMD')"
      ],
      "execution_count": null,
      "outputs": []
    },
    {
      "cell_type": "markdown",
      "metadata": {
        "id": "ye-Nhm7PuadU"
      },
      "source": [
        "###Medidas Antropométricas\n",
        "Nesta etapa é necessário inserir os parâmetros de entrada (medidas antropométricas) para o cálculo da quantidade de tubos.\n",
        "\n",
        "\n",
        "\n",
        "A = Altura das costas\n",
        "\n",
        "B = Largura do quadril\n",
        "\n",
        "C = Comprimento das coxas\n",
        "\n",
        "D = Altura das pernas\n",
        "\n",
        "E = Altura do braço\n",
        "\n",
        "F = Comprimento do antebraço\n"
      ]
    },
    {
      "cell_type": "code",
      "metadata": {
        "id": "xqriwslAulQM"
      },
      "source": [
        "#Medidas antropométicas\n",
        "\n",
        "#Altura das costa = 36cm\n",
        "A=36\n",
        "\n",
        "#Largura do quadril = 25cm\n",
        "B=25\n",
        "\n",
        "#Comprimento das coxas = 30cm\n",
        "C=30\n",
        "\n",
        "#Altura da pernas = 28cm\n",
        "D=28\n",
        "\n",
        "#Altura do braço = 14cm\n",
        "E=14\n",
        "\n",
        "#Comprimento do antebraço = 25cm\n",
        "F=25"
      ],
      "execution_count": null,
      "outputs": []
    },
    {
      "cell_type": "markdown",
      "metadata": {
        "id": "6glZjx4F_qDv"
      },
      "source": [
        "###Comprimento dos tubos em função das medidas antropométricas"
      ]
    },
    {
      "cell_type": "code",
      "metadata": {
        "id": "1p0Dr-093SqY"
      },
      "source": [
        "#itens do assento\n",
        "\n",
        "A1 = 3          #junção entre conexões de PVC\n",
        "\n",
        "A2 = C - 18     #comprimento da coxa menos 18cm\n",
        "\n",
        "A3 = A2 + 5     #profundidade do assento, calculado em função de A2\n",
        "\n",
        "A4 = B + 3      #largura do assento, equivalente a largura do quadril mais 3cm\n",
        "\n",
        "A5 = 10         #controla a posição do eixo traseiro\n",
        "\n",
        "A6 = F          #apoio para o antebraço, equivale ao comprimento do antebraço\n",
        "\n",
        "A7 = 9          #controla a altura da cadeira. Recomenda-se até 9cm.\n",
        "\n",
        "A8 = E - 6      #altura do apoio para braço. Equivale a altura do braço menos 5\n",
        "\n",
        "A9 = 0          #constituido de tubo diferente, entao não será considerado\n",
        "\n",
        "A10 = 26        #essa medida representa a altura da haste para empurrar a cadera e fica a criterio do cuidador \n",
        "\n",
        "A11 = 6         #apoio para o encosto\n"
      ],
      "execution_count": null,
      "outputs": []
    },
    {
      "cell_type": "code",
      "metadata": {
        "id": "qFC5S9c17yua"
      },
      "source": [
        "#Itens da base\n",
        "\n",
        "T1 = A1           #junção entre conexões de PVC. Sempre 3cm\n",
        "\n",
        "T2 = A2           #assim como a peça A2, equivale ao comprimento da coxa menos 18cm\n",
        "\n",
        "T3 = 12           #pode variar se quiser customizar o apoio do pé. Recomenda-se o tamanho do pé + 4cm\n",
        "\n",
        "T4 = B + 4        #largura do assento, equivale a largura do quadril mais 4cm\n",
        "\n",
        "T5 = A5           #Precisa ser igual A5. Juntos definem a posição do eixo das rodas traseiras\n",
        "\n",
        "T6 = T2 + 10      #profundidade do assento. Depende de T2.\n",
        "\n",
        "T7 = A7           #define a altura da cadeira de rodas, deve ter o menos tamanho de A7"
      ],
      "execution_count": null,
      "outputs": []
    },
    {
      "cell_type": "code",
      "metadata": {
        "id": "bqFiOg7UCS9k"
      },
      "source": [
        "#Itens do encosto\n",
        "\n",
        "E1 = T1           #junção entre conexões de PVC. Sempre 3cm.\n",
        "\n",
        "E2 = A4 - 17      #Largura do enconto em função da largura da cadeira\n",
        "\n",
        "E3 = A - 15       #Altura do encosto, equivale a largura das costas menos 15cm\n",
        "\n",
        "E4 = 25           #Haste para ajuste da inclinação do encosto. Pode ser 25cm ou mais"
      ],
      "execution_count": null,
      "outputs": []
    },
    {
      "cell_type": "markdown",
      "metadata": {
        "id": "01D3d-vedDIb"
      },
      "source": [
        "### Resolvendo o problema de EMPACOTAMENTO DE MOCHILAS"
      ]
    },
    {
      "cell_type": "code",
      "metadata": {
        "id": "sgX29bmKdb-U"
      },
      "source": [
        "# Minimizar o número de mochilas I\n",
        "model = LpProblem(\"Empacotamento_mochila\", LpMinimize)"
      ],
      "execution_count": null,
      "outputs": []
    },
    {
      "cell_type": "markdown",
      "metadata": {
        "id": "Gmk_6oqMxsjl"
      },
      "source": [
        "##wJ comprimento (pesos) dos tubos \n",
        "\n",
        "Comprimento do tubo J, com J variando de 0 a 21, pois no total são 22 modelos de tubos a serem cortados."
      ]
    },
    {
      "cell_type": "code",
      "metadata": {
        "colab": {
          "base_uri": "https://localhost:8080/"
        },
        "id": "CnRtRGg_zSfg",
        "outputId": "5c4bc4c2-0c76-411e-c13b-0f390b36e329"
      },
      "source": [
        "wJ = []                 #criação de uma lista para inserir os tamanhos dos tubos\n",
        "\n",
        "codigoTubo = []         #lista com os códigos de cada tipo de tubo (cortes)\n",
        "\n",
        "#adicionando os tamanhos dos tubos (pesos) no vetor wJ\n",
        "for qtd in range(10): # demanda de 10\n",
        "  wJ.append(A1)\n",
        "  codigoTubo.append('A1')\n",
        "\n",
        "for qtd in range(2):  # demanda de 2\n",
        "  wJ.append(A2)\n",
        "  codigoTubo.append('A2')\n",
        "\n",
        "for qtd in range(2):   #demanda de 2\n",
        "  wJ.append(A3)\n",
        "  codigoTubo.append('A3')\n",
        "\n",
        "for qtd in range(7):   #demanda de 7 ...\n",
        "  wJ.append(A4)\n",
        "  codigoTubo.append('A4')       \n",
        "\n",
        "for qtd in range(2): \n",
        "  wJ.append(A5)\n",
        "  codigoTubo.append('A5')\n",
        "\n",
        "for qtd in range(2):\n",
        "  wJ.append(A6)\n",
        "  codigoTubo.append('A6')\n",
        "\n",
        "for qtd in range(4):\n",
        "  wJ.append(A7)\n",
        "  codigoTubo.append('A7')\n",
        "\n",
        "for qtd in range(4):\n",
        "  wJ.append(A8)\n",
        "  codigoTubo.append('A8')\n",
        "\n",
        "wJ.append(A9)\n",
        "codigoTubo.append('A9_NULO')        \n",
        "\n",
        "for qtd in range(2):\n",
        "  wJ.append(A10)\n",
        "  codigoTubo.append('A10')\n",
        "\n",
        "for qtd in range(1):   \n",
        "  wJ.append(A11)\n",
        "  codigoTubo.append('A11')\n",
        "\n",
        "\n",
        "for qtd in range(12):   \n",
        "  wJ.append(T1)\n",
        "  codigoTubo.append('T1')\n",
        "\n",
        "for qtd in range(2):\n",
        "  wJ.append(T2)\n",
        "  codigoTubo.append('T2')\n",
        "\n",
        "for qtd in range(2):\n",
        "  wJ.append(T3)\n",
        "  codigoTubo.append('T3')\n",
        "\n",
        "for qtd in range(6):\n",
        "  wJ.append(T4)\n",
        "  codigoTubo.append('T4')\n",
        "\n",
        "for qtd in range(4):\n",
        "  wJ.append(T5)\n",
        "  codigoTubo.append('T5')\n",
        "\n",
        "for qtd in range(2):\n",
        "  wJ.append(T6)\n",
        "  codigoTubo.append('T6')\n",
        "\n",
        "for qtd in range(6):\n",
        "  wJ.append(T7) \n",
        "  codigoTubo.append('T7')\n",
        "\n",
        "\n",
        "for qtd in range(2):\n",
        "  wJ.append(E1)\n",
        "  codigoTubo.append('E1')\n",
        "\n",
        "for qtd in range(2):\n",
        "  wJ.append(E2)\n",
        "  codigoTubo.append('E2')\n",
        "\n",
        "for qtd in range(2):\n",
        "  wJ.append(E3)\n",
        "  codigoTubo.append('E3')\n",
        "\n",
        "for qtd in range(1):          #demanda 1\n",
        "  wJ.append(E4)\n",
        "  codigoTubo.append('E4')\n",
        "\n",
        "wJmax = len(wJ)\n",
        "wJmax"
      ],
      "execution_count": null,
      "outputs": [
        {
          "output_type": "execute_result",
          "data": {
            "text/plain": [
              "78"
            ]
          },
          "metadata": {
            "tags": []
          },
          "execution_count": 183
        }
      ]
    },
    {
      "cell_type": "code",
      "metadata": {
        "colab": {
          "base_uri": "https://localhost:8080/"
        },
        "id": "CjBZQXig6oAF",
        "outputId": "bf8d4bc4-a861-4926-993f-70fbdf070a5e"
      },
      "source": [
        "print(len(codigoTubo))"
      ],
      "execution_count": null,
      "outputs": [
        {
          "output_type": "stream",
          "text": [
            "78\n"
          ],
          "name": "stdout"
        }
      ]
    },
    {
      "cell_type": "code",
      "metadata": {
        "colab": {
          "base_uri": "https://localhost:8080/"
        },
        "id": "22Grzz6xxxPE",
        "outputId": "bdddd8e2-be22-4577-a492-c8628bafd05d"
      },
      "source": [
        "wJ"
      ],
      "execution_count": null,
      "outputs": [
        {
          "output_type": "execute_result",
          "data": {
            "text/plain": [
              "[3,\n",
              " 3,\n",
              " 3,\n",
              " 3,\n",
              " 3,\n",
              " 3,\n",
              " 3,\n",
              " 3,\n",
              " 3,\n",
              " 3,\n",
              " 12,\n",
              " 12,\n",
              " 17,\n",
              " 17,\n",
              " 28,\n",
              " 28,\n",
              " 28,\n",
              " 28,\n",
              " 28,\n",
              " 28,\n",
              " 28,\n",
              " 10,\n",
              " 10,\n",
              " 25,\n",
              " 25,\n",
              " 9,\n",
              " 9,\n",
              " 9,\n",
              " 9,\n",
              " 8,\n",
              " 8,\n",
              " 8,\n",
              " 8,\n",
              " 0,\n",
              " 26,\n",
              " 26,\n",
              " 6,\n",
              " 3,\n",
              " 3,\n",
              " 3,\n",
              " 3,\n",
              " 3,\n",
              " 3,\n",
              " 3,\n",
              " 3,\n",
              " 3,\n",
              " 3,\n",
              " 3,\n",
              " 3,\n",
              " 12,\n",
              " 12,\n",
              " 12,\n",
              " 12,\n",
              " 29,\n",
              " 29,\n",
              " 29,\n",
              " 29,\n",
              " 29,\n",
              " 29,\n",
              " 10,\n",
              " 10,\n",
              " 10,\n",
              " 10,\n",
              " 22,\n",
              " 22,\n",
              " 9,\n",
              " 9,\n",
              " 9,\n",
              " 9,\n",
              " 9,\n",
              " 9,\n",
              " 3,\n",
              " 3,\n",
              " 11,\n",
              " 11,\n",
              " 21,\n",
              " 21,\n",
              " 25]"
            ]
          },
          "metadata": {
            "tags": []
          },
          "execution_count": 185
        }
      ]
    },
    {
      "cell_type": "code",
      "metadata": {
        "colab": {
          "base_uri": "https://localhost:8080/"
        },
        "id": "Gj2_blnA68lW",
        "outputId": "64b3de9c-9575-45fe-9b81-14dfcddb072f"
      },
      "source": [
        "codigoTubo"
      ],
      "execution_count": null,
      "outputs": [
        {
          "output_type": "execute_result",
          "data": {
            "text/plain": [
              "['A1',\n",
              " 'A1',\n",
              " 'A1',\n",
              " 'A1',\n",
              " 'A1',\n",
              " 'A1',\n",
              " 'A1',\n",
              " 'A1',\n",
              " 'A1',\n",
              " 'A1',\n",
              " 'A2',\n",
              " 'A2',\n",
              " 'A3',\n",
              " 'A3',\n",
              " 'A4',\n",
              " 'A4',\n",
              " 'A4',\n",
              " 'A4',\n",
              " 'A4',\n",
              " 'A4',\n",
              " 'A4',\n",
              " 'A5',\n",
              " 'A5',\n",
              " 'A6',\n",
              " 'A6',\n",
              " 'A7',\n",
              " 'A7',\n",
              " 'A7',\n",
              " 'A7',\n",
              " 'A8',\n",
              " 'A8',\n",
              " 'A8',\n",
              " 'A8',\n",
              " 'A9_NULO',\n",
              " 'A10',\n",
              " 'A10',\n",
              " 'A11',\n",
              " 'T1',\n",
              " 'T1',\n",
              " 'T1',\n",
              " 'T1',\n",
              " 'T1',\n",
              " 'T1',\n",
              " 'T1',\n",
              " 'T1',\n",
              " 'T1',\n",
              " 'T1',\n",
              " 'T1',\n",
              " 'T1',\n",
              " 'T2',\n",
              " 'T2',\n",
              " 'T3',\n",
              " 'T3',\n",
              " 'T4',\n",
              " 'T4',\n",
              " 'T4',\n",
              " 'T4',\n",
              " 'T4',\n",
              " 'T4',\n",
              " 'T5',\n",
              " 'T5',\n",
              " 'T5',\n",
              " 'T5',\n",
              " 'T6',\n",
              " 'T6',\n",
              " 'T7',\n",
              " 'T7',\n",
              " 'T7',\n",
              " 'T7',\n",
              " 'T7',\n",
              " 'T7',\n",
              " 'E1',\n",
              " 'E1',\n",
              " 'E2',\n",
              " 'E2',\n",
              " 'E3',\n",
              " 'E3',\n",
              " 'E4']"
            ]
          },
          "metadata": {
            "tags": []
          },
          "execution_count": 186
        }
      ]
    },
    {
      "cell_type": "markdown",
      "metadata": {
        "id": "P6eH3dO8aCXw"
      },
      "source": [
        "### yI: Variável binária ativada caso a mochila I seja usada."
      ]
    },
    {
      "cell_type": "code",
      "metadata": {
        "id": "83NblwzJ150t",
        "colab": {
          "base_uri": "https://localhost:8080/"
        },
        "outputId": "9f0e41eb-bffd-4193-b522-64ca7b08afda"
      },
      "source": [
        "#O limitante superior do número de mochilas é o número n de itens, já que não faz sentido mais mochilas do que itens.\n",
        "Ntubos = list(range(0, wJmax))\n",
        "Ntubos"
      ],
      "execution_count": null,
      "outputs": [
        {
          "output_type": "execute_result",
          "data": {
            "text/plain": [
              "[0,\n",
              " 1,\n",
              " 2,\n",
              " 3,\n",
              " 4,\n",
              " 5,\n",
              " 6,\n",
              " 7,\n",
              " 8,\n",
              " 9,\n",
              " 10,\n",
              " 11,\n",
              " 12,\n",
              " 13,\n",
              " 14,\n",
              " 15,\n",
              " 16,\n",
              " 17,\n",
              " 18,\n",
              " 19,\n",
              " 20,\n",
              " 21,\n",
              " 22,\n",
              " 23,\n",
              " 24,\n",
              " 25,\n",
              " 26,\n",
              " 27,\n",
              " 28,\n",
              " 29,\n",
              " 30,\n",
              " 31,\n",
              " 32,\n",
              " 33,\n",
              " 34,\n",
              " 35,\n",
              " 36,\n",
              " 37,\n",
              " 38,\n",
              " 39,\n",
              " 40,\n",
              " 41,\n",
              " 42,\n",
              " 43,\n",
              " 44,\n",
              " 45,\n",
              " 46,\n",
              " 47,\n",
              " 48,\n",
              " 49,\n",
              " 50,\n",
              " 51,\n",
              " 52,\n",
              " 53,\n",
              " 54,\n",
              " 55,\n",
              " 56,\n",
              " 57,\n",
              " 58,\n",
              " 59,\n",
              " 60,\n",
              " 61,\n",
              " 62,\n",
              " 63,\n",
              " 64,\n",
              " 65,\n",
              " 66,\n",
              " 67,\n",
              " 68,\n",
              " 69,\n",
              " 70,\n",
              " 71,\n",
              " 72,\n",
              " 73,\n",
              " 74,\n",
              " 75,\n",
              " 76,\n",
              " 77]"
            ]
          },
          "metadata": {
            "tags": []
          },
          "execution_count": 187
        }
      ]
    },
    {
      "cell_type": "code",
      "metadata": {
        "id": "JyxDjOAw8RM6"
      },
      "source": [
        "#for i in Ntubos:\n",
        "#  print(i)"
      ],
      "execution_count": null,
      "outputs": []
    },
    {
      "cell_type": "code",
      "metadata": {
        "id": "v-ajC6es8QyW"
      },
      "source": [
        "#yI\n",
        "yI = LpVariable.dicts(\"yI\", [i for i in Ntubos], lowBound=0, cat=\"Binary\")"
      ],
      "execution_count": null,
      "outputs": []
    },
    {
      "cell_type": "code",
      "metadata": {
        "colab": {
          "base_uri": "https://localhost:8080/"
        },
        "id": "aTSvLqG9YNAV",
        "outputId": "ea79bd01-ea67-454a-ff35-b9b56c282df9"
      },
      "source": [
        "dJ = [10,\n",
        "      2,\n",
        "      2,\n",
        "      7,\n",
        "      2,\n",
        "      2,\n",
        "      4,\n",
        "      4,\n",
        "      0,\n",
        "      2,\n",
        "      1,\n",
        "      12,\n",
        "      2,\n",
        "      2,\n",
        "      6,\n",
        "      4,\n",
        "      2,\n",
        "      6,\n",
        "      2,\n",
        "      2,\n",
        "      2,\n",
        "      1]\n",
        "\n",
        "dJmax=len(dJ)\n",
        "dJmax"
      ],
      "execution_count": null,
      "outputs": [
        {
          "output_type": "execute_result",
          "data": {
            "text/plain": [
              "22"
            ]
          },
          "metadata": {
            "tags": []
          },
          "execution_count": 190
        }
      ]
    },
    {
      "cell_type": "code",
      "metadata": {
        "colab": {
          "base_uri": "https://localhost:8080/"
        },
        "id": "JLr3qgSgZwOB",
        "outputId": "72935fe0-4676-4414-c0b4-66f235599373"
      },
      "source": [
        "dJ"
      ],
      "execution_count": null,
      "outputs": [
        {
          "output_type": "execute_result",
          "data": {
            "text/plain": [
              "[10, 2, 2, 7, 2, 2, 4, 4, 0, 2, 1, 12, 2, 2, 6, 4, 2, 6, 2, 2, 2, 1]"
            ]
          },
          "metadata": {
            "tags": []
          },
          "execution_count": 191
        }
      ]
    },
    {
      "cell_type": "markdown",
      "metadata": {
        "id": "a_WaCTS5fCWJ"
      },
      "source": [
        "### xIJ: Variável binária se o item J é colocado na mochila I"
      ]
    },
    {
      "cell_type": "code",
      "metadata": {
        "id": "zam8NVTofBH5"
      },
      "source": [
        "#xIJ\n",
        "xIJ = LpVariable.dicts(\"xIJ\", [(i,j) for i in Ntubos for j in Ntubos], lowBound=0, cat=\"Binary\")"
      ],
      "execution_count": null,
      "outputs": []
    },
    {
      "cell_type": "markdown",
      "metadata": {
        "id": "Ik9ZQo_pf9PD"
      },
      "source": [
        "#Função Objetivo"
      ]
    },
    {
      "cell_type": "code",
      "metadata": {
        "id": "ORYWl8Dif8kF"
      },
      "source": [
        "#Equação 1\n",
        "model += lpSum(yI[i] for i in Ntubos)"
      ],
      "execution_count": null,
      "outputs": []
    },
    {
      "cell_type": "markdown",
      "metadata": {
        "id": "ecPXE3Q9gjhk"
      },
      "source": [
        "#Restrições"
      ]
    },
    {
      "cell_type": "code",
      "metadata": {
        "id": "2b3Xzs9wgoKf"
      },
      "source": [
        "#Equação 2\n",
        "for j in Ntubos:\n",
        "    model += (lpSum(xIJ[i,j] for i in Ntubos) == 1)\n",
        "    #print(lpSum(xIJ[i,j] for i in Ntubos),'= 1')"
      ],
      "execution_count": null,
      "outputs": []
    },
    {
      "cell_type": "code",
      "metadata": {
        "id": "R3EnZMqfivTy"
      },
      "source": [
        "#Equação 3\n",
        "for i in Ntubos:\n",
        "  model += (lpSum(wJ[j]*xIJ[i,j] for j in Ntubos) <= 300*yI[i])   #Porque o tamanho do tubo é 300cm ou 3m \n",
        "  #print(lpSum(wJ[j]*xIJ[i,j] for j in Ntubos),' <= ', 300*yI[i])"
      ],
      "execution_count": null,
      "outputs": []
    },
    {
      "cell_type": "code",
      "metadata": {
        "id": "MD7lggIxo4Sg"
      },
      "source": [
        "#Equação 4\n",
        "#Define as variáveis conforme no início"
      ],
      "execution_count": null,
      "outputs": []
    },
    {
      "cell_type": "markdown",
      "metadata": {
        "id": "AS13a3fupFqU"
      },
      "source": [
        "#Otimizando"
      ]
    },
    {
      "cell_type": "code",
      "metadata": {
        "colab": {
          "base_uri": "https://localhost:8080/"
        },
        "id": "_wgccdNSpOjm",
        "outputId": "50bc7276-336d-4202-b5d5-8b8af1501528"
      },
      "source": [
        "import time\n",
        "start_time = time.time()\n",
        "\n",
        "optimization_result = model.solve(solver)\n",
        "LpStatus[model.status]\n",
        "\n",
        "print(\"--- %s seconds ---\" % (time.time() - start_time))"
      ],
      "execution_count": null,
      "outputs": [
        {
          "output_type": "stream",
          "text": [
            "--- 3.627469301223755 seconds ---\n"
          ],
          "name": "stdout"
        }
      ]
    },
    {
      "cell_type": "code",
      "metadata": {
        "id": "oLePVqDApT9s"
      },
      "source": [
        "#model"
      ],
      "execution_count": null,
      "outputs": []
    },
    {
      "cell_type": "code",
      "metadata": {
        "colab": {
          "base_uri": "https://localhost:8080/",
          "height": 35
        },
        "id": "eN4iPZSKpZFo",
        "outputId": "2f898c94-8da7-4609-cbbe-9219658078c9"
      },
      "source": [
        "#https://stackoverflow.com/questions/64405352/lpaffineexpression-object-has-no-attribute-solve-in-pulp-lp-problem-optimiz\n",
        "#resolvendo o problema\n",
        "# optimization_result = model.solve()\n",
        "LpStatus[model.status]"
      ],
      "execution_count": null,
      "outputs": [
        {
          "output_type": "execute_result",
          "data": {
            "application/vnd.google.colaboratory.intrinsic+json": {
              "type": "string"
            },
            "text/plain": [
              "'Optimal'"
            ]
          },
          "metadata": {
            "tags": []
          },
          "execution_count": 199
        }
      ]
    },
    {
      "cell_type": "code",
      "metadata": {
        "id": "UUqhVJSVpZ2V"
      },
      "source": [
        "#Verificando se a solução ótima foi encontrada\n",
        "assert optimization_result == LpStatusOptimal"
      ],
      "execution_count": null,
      "outputs": []
    },
    {
      "cell_type": "markdown",
      "metadata": {
        "id": "DiHuK44ipslk"
      },
      "source": [
        "#Resultados"
      ]
    },
    {
      "cell_type": "code",
      "metadata": {
        "colab": {
          "base_uri": "https://localhost:8080/"
        },
        "id": "1yb9NgOhpuqt",
        "outputId": "f0af3503-927d-47fb-ac1a-309f90db3772"
      },
      "source": [
        "print(model.objective)"
      ],
      "execution_count": null,
      "outputs": [
        {
          "output_type": "stream",
          "text": [
            "yI_0 + yI_1 + yI_10 + yI_11 + yI_12 + yI_13 + yI_14 + yI_15 + yI_16 + yI_17 + yI_18 + yI_19 + yI_2 + yI_20 + yI_21 + yI_22 + yI_23 + yI_24 + yI_25 + yI_26 + yI_27 + yI_28 + yI_29 + yI_3 + yI_30 + yI_31 + yI_32 + yI_33 + yI_34 + yI_35 + yI_36 + yI_37 + yI_38 + yI_39 + yI_4 + yI_40 + yI_41 + yI_42 + yI_43 + yI_44 + yI_45 + yI_46 + yI_47 + yI_48 + yI_49 + yI_5 + yI_50 + yI_51 + yI_52 + yI_53 + yI_54 + yI_55 + yI_56 + yI_57 + yI_58 + yI_59 + yI_6 + yI_60 + yI_61 + yI_62 + yI_63 + yI_64 + yI_65 + yI_66 + yI_67 + yI_68 + yI_69 + yI_7 + yI_70 + yI_71 + yI_72 + yI_73 + yI_74 + yI_75 + yI_76 + yI_77 + yI_8 + yI_9\n"
          ],
          "name": "stdout"
        }
      ]
    },
    {
      "cell_type": "code",
      "metadata": {
        "colab": {
          "base_uri": "https://localhost:8080/"
        },
        "id": "nKOYpzLNp2jg",
        "outputId": "f151b5fc-bd4e-4d53-d940-678fdb5ded20"
      },
      "source": [
        "value(model.objective)"
      ],
      "execution_count": null,
      "outputs": [
        {
          "output_type": "execute_result",
          "data": {
            "text/plain": [
              "4.0"
            ]
          },
          "metadata": {
            "tags": []
          },
          "execution_count": 202
        }
      ]
    },
    {
      "cell_type": "code",
      "metadata": {
        "colab": {
          "base_uri": "https://localhost:8080/"
        },
        "id": "ybaXxnk5p7rK",
        "outputId": "f6412f08-59b9-450f-e324-dd356b1ef11d"
      },
      "source": [
        "model.objective.value()"
      ],
      "execution_count": null,
      "outputs": [
        {
          "output_type": "execute_result",
          "data": {
            "text/plain": [
              "4.0"
            ]
          },
          "metadata": {
            "tags": []
          },
          "execution_count": 203
        }
      ]
    },
    {
      "cell_type": "code",
      "metadata": {
        "id": "BvdlCkr9p_dO"
      },
      "source": [
        "#model.variables()"
      ],
      "execution_count": null,
      "outputs": []
    },
    {
      "cell_type": "code",
      "metadata": {
        "colab": {
          "base_uri": "https://localhost:8080/"
        },
        "id": "i9nPyHo29Nn3",
        "outputId": "65180e1c-4050-4daf-d622-ecc3e4784589"
      },
      "source": [
        "#Separando yI ativas para verificar a quantidade de tubos\n",
        "SomaTubo = 0\n",
        "\n",
        "for v in model.variables():\n",
        "  #separando as informações\n",
        "  if v.varValue > 0: #somente variaveis yI ativas\n",
        "    if v.name[:2] == \"yI\":\n",
        "      print('Mochila ativa: ', v.name)\n",
        "      SomaTubo = SomaTubo + 1\n",
        "\n",
        "print('____________________________________')\n",
        "print('Total de padrões para corte: ', SomaTubo)"
      ],
      "execution_count": null,
      "outputs": [
        {
          "output_type": "stream",
          "text": [
            "Mochila ativa:  yI_64\n",
            "Mochila ativa:  yI_68\n",
            "Mochila ativa:  yI_75\n",
            "Mochila ativa:  yI_8\n",
            "____________________________________\n",
            "Total de padrões para corte:  4\n"
          ],
          "name": "stdout"
        }
      ]
    },
    {
      "cell_type": "markdown",
      "metadata": {
        "id": "phwp1tRksOWY"
      },
      "source": [
        "###Imprimindo os resultados"
      ]
    },
    {
      "cell_type": "code",
      "metadata": {
        "colab": {
          "base_uri": "https://localhost:8080/"
        },
        "id": "eOZq9aytHqPG",
        "outputId": "4c713047-c29d-4ab3-be1a-8d3956a60646"
      },
      "source": [
        "#separando as informações\n",
        "for v in model.variables():\n",
        "  if v.varValue > 0: #somente variaveis yI ativas   \n",
        "    if v.name[:3] == \"xIJ\":\n",
        "      print(v.name)\n",
        "      print('\\n')"
      ],
      "execution_count": null,
      "outputs": [
        {
          "output_type": "stream",
          "text": [
            "xIJ_(64,_0)\n",
            "\n",
            "\n",
            "xIJ_(64,_15)\n",
            "\n",
            "\n",
            "xIJ_(64,_17)\n",
            "\n",
            "\n",
            "xIJ_(64,_2)\n",
            "\n",
            "\n",
            "xIJ_(64,_28)\n",
            "\n",
            "\n",
            "xIJ_(64,_49)\n",
            "\n",
            "\n",
            "xIJ_(64,_51)\n",
            "\n",
            "\n",
            "xIJ_(64,_57)\n",
            "\n",
            "\n",
            "xIJ_(64,_60)\n",
            "\n",
            "\n",
            "xIJ_(64,_64)\n",
            "\n",
            "\n",
            "xIJ_(64,_76)\n",
            "\n",
            "\n",
            "xIJ_(68,_16)\n",
            "\n",
            "\n",
            "xIJ_(68,_18)\n",
            "\n",
            "\n",
            "xIJ_(68,_20)\n",
            "\n",
            "\n",
            "xIJ_(68,_24)\n",
            "\n",
            "\n",
            "xIJ_(68,_25)\n",
            "\n",
            "\n",
            "xIJ_(68,_26)\n",
            "\n",
            "\n",
            "xIJ_(68,_27)\n",
            "\n",
            "\n",
            "xIJ_(68,_29)\n",
            "\n",
            "\n",
            "xIJ_(68,_3)\n",
            "\n",
            "\n",
            "xIJ_(68,_30)\n",
            "\n",
            "\n",
            "xIJ_(68,_47)\n",
            "\n",
            "\n",
            "xIJ_(68,_52)\n",
            "\n",
            "\n",
            "xIJ_(68,_54)\n",
            "\n",
            "\n",
            "xIJ_(68,_56)\n",
            "\n",
            "\n",
            "xIJ_(68,_62)\n",
            "\n",
            "\n",
            "xIJ_(68,_65)\n",
            "\n",
            "\n",
            "xIJ_(68,_67)\n",
            "\n",
            "\n",
            "xIJ_(68,_68)\n",
            "\n",
            "\n",
            "xIJ_(68,_69)\n",
            "\n",
            "\n",
            "xIJ_(68,_70)\n",
            "\n",
            "\n",
            "xIJ_(68,_72)\n",
            "\n",
            "\n",
            "xIJ_(68,_74)\n",
            "\n",
            "\n",
            "xIJ_(68,_9)\n",
            "\n",
            "\n",
            "xIJ_(73,_33)\n",
            "\n",
            "\n",
            "xIJ_(75,_13)\n",
            "\n",
            "\n",
            "xIJ_(75,_14)\n",
            "\n",
            "\n",
            "xIJ_(75,_19)\n",
            "\n",
            "\n",
            "xIJ_(75,_22)\n",
            "\n",
            "\n",
            "xIJ_(75,_50)\n",
            "\n",
            "\n",
            "xIJ_(75,_53)\n",
            "\n",
            "\n",
            "xIJ_(75,_58)\n",
            "\n",
            "\n",
            "xIJ_(75,_66)\n",
            "\n",
            "\n",
            "xIJ_(75,_73)\n",
            "\n",
            "\n",
            "xIJ_(75,_75)\n",
            "\n",
            "\n",
            "xIJ_(8,_1)\n",
            "\n",
            "\n",
            "xIJ_(8,_10)\n",
            "\n",
            "\n",
            "xIJ_(8,_11)\n",
            "\n",
            "\n",
            "xIJ_(8,_12)\n",
            "\n",
            "\n",
            "xIJ_(8,_21)\n",
            "\n",
            "\n",
            "xIJ_(8,_23)\n",
            "\n",
            "\n",
            "xIJ_(8,_31)\n",
            "\n",
            "\n",
            "xIJ_(8,_32)\n",
            "\n",
            "\n",
            "xIJ_(8,_34)\n",
            "\n",
            "\n",
            "xIJ_(8,_35)\n",
            "\n",
            "\n",
            "xIJ_(8,_36)\n",
            "\n",
            "\n",
            "xIJ_(8,_37)\n",
            "\n",
            "\n",
            "xIJ_(8,_38)\n",
            "\n",
            "\n",
            "xIJ_(8,_39)\n",
            "\n",
            "\n",
            "xIJ_(8,_4)\n",
            "\n",
            "\n",
            "xIJ_(8,_40)\n",
            "\n",
            "\n",
            "xIJ_(8,_41)\n",
            "\n",
            "\n",
            "xIJ_(8,_42)\n",
            "\n",
            "\n",
            "xIJ_(8,_43)\n",
            "\n",
            "\n",
            "xIJ_(8,_44)\n",
            "\n",
            "\n",
            "xIJ_(8,_45)\n",
            "\n",
            "\n",
            "xIJ_(8,_46)\n",
            "\n",
            "\n",
            "xIJ_(8,_48)\n",
            "\n",
            "\n",
            "xIJ_(8,_5)\n",
            "\n",
            "\n",
            "xIJ_(8,_55)\n",
            "\n",
            "\n",
            "xIJ_(8,_59)\n",
            "\n",
            "\n",
            "xIJ_(8,_6)\n",
            "\n",
            "\n",
            "xIJ_(8,_61)\n",
            "\n",
            "\n",
            "xIJ_(8,_63)\n",
            "\n",
            "\n",
            "xIJ_(8,_7)\n",
            "\n",
            "\n",
            "xIJ_(8,_71)\n",
            "\n",
            "\n",
            "xIJ_(8,_77)\n",
            "\n",
            "\n",
            "xIJ_(8,_8)\n",
            "\n",
            "\n"
          ],
          "name": "stdout"
        }
      ]
    },
    {
      "cell_type": "code",
      "metadata": {
        "id": "HFmL37-BPYNY"
      },
      "source": [
        ""
      ],
      "execution_count": null,
      "outputs": []
    }
  ]
}